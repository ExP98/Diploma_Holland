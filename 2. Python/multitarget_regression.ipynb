{
 "cells": [
  {
   "cell_type": "code",
   "execution_count": 8,
   "metadata": {},
   "outputs": [],
   "source": [
    "import pandas as pd\n",
    "import numpy as np\n",
    "from sklearn.model_selection import train_test_split\n",
    "from sklearn.multioutput import MultiOutputRegressor, RegressorChain\n",
    "from sklearn.linear_model import LinearRegression\n",
    "from sklearn.ensemble import RandomForestRegressor\n",
    "# from sklearn.metrics import root_mean_squared_error"
   ]
  },
  {
   "cell_type": "code",
   "execution_count": 9,
   "metadata": {},
   "outputs": [],
   "source": [
    "def rmse(y_true, y_pred):\n",
    "    mean_squared_error = np.mean((y_true - y_pred) ** 2)  # Среднее значение квадратов ошибок\n",
    "    return np.sqrt(mean_squared_error)"
   ]
  },
  {
   "cell_type": "code",
   "execution_count": 11,
   "metadata": {},
   "outputs": [],
   "source": [
    "data = pd.read_feather(\"wide_data.feather\")\n",
    "\n",
    "X = data.loc[:, ~data.columns.isin([\"HL_1\", \"HL_2\", \"HL_3\", \"HL_4\", \"HL_5\", \"HL_6\", \"id\"])]\n",
    "y = data.loc[:, \"HL_1\":\"HL_6\"]\n",
    "\n",
    "X_train, X_test, y_train, y_test = train_test_split(X, y, test_size=0.2, random_state=42)"
   ]
  },
  {
   "cell_type": "code",
   "execution_count": 44,
   "metadata": {},
   "outputs": [
    {
     "name": "stdout",
     "output_type": "stream",
     "text": [
      "Root Mean Squared Error: 2.1941610460671366\n"
     ]
    }
   ],
   "source": [
    "mor_model = MultiOutputRegressor(RandomForestRegressor(n_estimators=500, random_state=42)).fit(X_train, y_train)\n",
    "\n",
    "y_pred = mor_model.predict(X_test)\n",
    "print(f\"Root Mean Squared Error: {rmse(y_test, y_pred)}\")"
   ]
  },
  {
   "cell_type": "markdown",
   "metadata": {},
   "source": [
    "Root Mean Squared Error: 2.1939639438160112 для n_est=1000\n",
    "Root Mean Squared Error: 2.2284464935263317 для n_est=100\n",
    "Root Mean Squared Error: 2.1941610460671366 для n_est=500"
   ]
  },
  {
   "cell_type": "code",
   "execution_count": 43,
   "metadata": {},
   "outputs": [
    {
     "name": "stdout",
     "output_type": "stream",
     "text": [
      "Root Mean Squared Error: 2.225661252258286\n"
     ]
    }
   ],
   "source": [
    "chain_model = RegressorChain(RandomForestRegressor(n_estimators=1000, random_state=42)).fit(X_train, y_train)\n",
    "\n",
    "y_pred = chain_model.predict(X_test)\n",
    "print(f\"Root Mean Squared Error: {rmse(y_test, y_pred)}\")"
   ]
  },
  {
   "cell_type": "code",
   "execution_count": null,
   "metadata": {},
   "outputs": [
    {
     "name": "stdout",
     "output_type": "stream",
     "text": [
      "Root Mean Squared Error: 2.3543859767245854\n",
      "Root Mean Squared Error: 2.354385976724586\n"
     ]
    }
   ],
   "source": [
    "lr_model1 = MultiOutputRegressor(LinearRegression()).fit(X_train, y_train)\n",
    "lr_model2 = RegressorChain(LinearRegression()).fit(X_train, y_train)\n",
    "\n",
    "y_pred1 = lr_model1.predict(X_test)\n",
    "print(f\"Root Mean Squared Error: {rmse(y_test, y_pred1)}\")\n",
    "\n",
    "y_pred2 = lr_model2.predict(X_test)\n",
    "print(f\"Root Mean Squared Error: {rmse(y_test, y_pred2)}\")"
   ]
  },
  {
   "cell_type": "code",
   "execution_count": 46,
   "metadata": {},
   "outputs": [
    {
     "name": "stdout",
     "output_type": "stream",
     "text": [
      "Root Mean Squared Error: 2.4056842024969742\n",
      "Root Mean Squared Error: 2.2901924434243894\n",
      "Root Mean Squared Error: 2.2700014717772112\n"
     ]
    }
   ],
   "source": [
    "from sklearn.svm import SVR\n",
    "\n",
    "svr_model1 = RegressorChain(SVR(kernel='linear')).fit(X_train, y_train)\n",
    "svr_model2 = RegressorChain(SVR(kernel='poly')).fit(X_train, y_train)\n",
    "svr_model3 = RegressorChain(SVR(kernel='rbf')).fit(X_train, y_train)\n",
    "\n",
    "y_pred1 = svr_model1.predict(X_test)\n",
    "y_pred2 = svr_model2.predict(X_test)\n",
    "y_pred3 = svr_model3.predict(X_test)\n",
    "\n",
    "print(f\"Root Mean Squared Error: {rmse(y_test, y_pred1)}\")\n",
    "print(f\"Root Mean Squared Error: {rmse(y_test, y_pred2)}\")\n",
    "print(f\"Root Mean Squared Error: {rmse(y_test, y_pred3)}\")"
   ]
  },
  {
   "cell_type": "code",
   "execution_count": null,
   "metadata": {},
   "outputs": [
    {
     "name": "stdout",
     "output_type": "stream",
     "text": [
      "Root Mean Squared Error: 2.420055095791554\n"
     ]
    }
   ],
   "source": [
    "from sklearn.neighbors import KNeighborsRegressor\n",
    "\n",
    "knn_model = RegressorChain(KNeighborsRegressor(n_neighbors=5)).fit(X_train, y_train)\n",
    "\n",
    "y_pred = knn_model.predict(X_test)\n",
    "print(f\"Root Mean Squared Error: {rmse(y_test, y_pred)}\")"
   ]
  },
  {
   "cell_type": "code",
   "execution_count": 53,
   "metadata": {},
   "outputs": [],
   "source": [
    "from tensorflow.keras.models import Sequential\n",
    "from tensorflow.keras.layers import Dense"
   ]
  },
  {
   "cell_type": "code",
   "execution_count": 56,
   "metadata": {},
   "outputs": [
    {
     "name": "stdout",
     "output_type": "stream",
     "text": [
      "WARNING:tensorflow:5 out of the last 13 calls to <function Model.make_predict_function.<locals>.predict_function at 0x000002337FA58B80> triggered tf.function retracing. Tracing is expensive and the excessive number of tracings could be due to (1) creating @tf.function repeatedly in a loop, (2) passing tensors with different shapes, (3) passing Python objects instead of tensors. For (1), please define your @tf.function outside of the loop. For (2), @tf.function has experimental_relax_shapes=True option that relaxes argument shapes that can avoid unnecessary retracing. For (3), please refer to https://www.tensorflow.org/tutorials/customization/performance#python_or_tensor_args and https://www.tensorflow.org/api_docs/python/tf/function for  more details.\n",
      "Root Mean Squared Error: 2.423056427748568\n"
     ]
    }
   ],
   "source": [
    "tf_model = Sequential([\n",
    "    Dense(128, input_dim=55, activation='relu'),\n",
    "    Dense(64, activation='relu'),\n",
    "    Dense(32, activation='relu'),\n",
    "    Dense(6)\n",
    "])\n",
    "\n",
    "tf_model.compile(optimizer='adam', loss='mse')\n",
    "    \n",
    "history = tf_model.fit(X_train, y_train, epochs=30, batch_size=32, validation_split=0.2, verbose=0)\n",
    "\n",
    "y_pred = tf_model.predict(X_test)\n",
    "print(f\"Root Mean Squared Error: {rmse(y_test, y_pred)}\")"
   ]
  },
  {
   "cell_type": "code",
   "execution_count": null,
   "metadata": {},
   "outputs": [
    {
     "data": {
      "image/png": "[encoded data removed]",
      "text/plain": [
       "<Figure size 640x480 with 1 Axes>"
      ]
     },
     "metadata": {},
     "output_type": "display_data"
    }
   ],
   "source": [
    "import matplotlib.pyplot as plt\n",
    "\n",
    "plt.plot(history.history['loss'], label='Train Loss')\n",
    "plt.plot(history.history['val_loss'], label='Validation Loss')\n",
    "plt.xlabel('Epochs')\n",
    "plt.ylabel('Loss')\n",
    "plt.legend()\n",
    "plt.show()"
   ]
  }
 ],
 "metadata": {
  "kernelspec": {
   "display_name": "env",
   "language": "python",
   "name": "python3"
  },
  "language_info": {
   "codemirror_mode": {
    "name": "ipython",
    "version": 3
   },
   "file_extension": ".py",
   "mimetype": "text/x-python",
   "name": "python",
   "nbconvert_exporter": "python",
   "pygments_lexer": "ipython3",
   "version": "3.8.20"
  }
 },
 "nbformat": 4,
 "nbformat_minor": 2
}
