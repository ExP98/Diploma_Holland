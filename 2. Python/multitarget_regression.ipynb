{
 "cells": [
  {
   "cell_type": "code",
   "execution_count": 4,
   "metadata": {},
   "outputs": [],
   "source": [
    "import pandas as pd\n",
    "import numpy as np\n",
    "from sklearn.model_selection import train_test_split\n",
    "from sklearn.multioutput import MultiOutputRegressor, RegressorChain\n",
    "from sklearn.linear_model import LinearRegression\n",
    "from sklearn.ensemble import RandomForestRegressor\n",
    "# from sklearn.metrics import root_mean_squared_error"
   ]
  },
  {
   "cell_type": "code",
   "execution_count": 6,
   "metadata": {},
   "outputs": [],
   "source": [
    "def rmse(y_true, y_pred):\n",
    "    mean_squared_error = np.mean((y_true - y_pred) ** 2)  # Среднее значение квадратов ошибок\n",
    "    return np.sqrt(mean_squared_error)"
   ]
  },
  {
   "cell_type": "code",
   "execution_count": 7,
   "metadata": {},
   "outputs": [],
   "source": [
    "data = pd.read_feather(\"wide_data.feather\")\n",
    "\n",
    "X = data.loc[:, ~data.columns.isin([\"HL_1\", \"HL_2\", \"HL_3\", \"HL_4\", \"HL_5\", \"HL_6\", \"id\"])]\n",
    "y = data.loc[:, \"HL_1\":\"HL_6\"]\n",
    "\n",
    "X_train, X_test, y_train, y_test = train_test_split(X, y, test_size=0.2, random_state=42)"
   ]
  },
  {
   "cell_type": "code",
   "execution_count": 44,
   "metadata": {},
   "outputs": [
    {
     "name": "stdout",
     "output_type": "stream",
     "text": [
      "Root Mean Squared Error: 2.1941610460671366\n"
     ]
    }
   ],
   "source": [
    "mor_model = MultiOutputRegressor(RandomForestRegressor(n_estimators=500, random_state=42)).fit(X_train, y_train)\n",
    "\n",
    "y_pred = mor_model.predict(X_test)\n",
    "print(f\"Root Mean Squared Error: {rmse(y_test, y_pred)}\")"
   ]
  },
  {
   "cell_type": "markdown",
   "metadata": {},
   "source": [
    "Root Mean Squared Error: 2.1939639438160112 для n_est=1000\n",
    "Root Mean Squared Error: 2.2284464935263317 для n_est=100\n",
    "Root Mean Squared Error: 2.1941610460671366 для n_est=500"
   ]
  },
  {
   "cell_type": "code",
   "execution_count": 43,
   "metadata": {},
   "outputs": [
    {
     "name": "stdout",
     "output_type": "stream",
     "text": [
      "Root Mean Squared Error: 2.225661252258286\n"
     ]
    }
   ],
   "source": [
    "chain_model = RegressorChain(RandomForestRegressor(n_estimators=1000, random_state=42)).fit(X_train, y_train)\n",
    "\n",
    "y_pred = chain_model.predict(X_test)\n",
    "print(f\"Root Mean Squared Error: {rmse(y_test, y_pred)}\")"
   ]
  },
  {
   "cell_type": "code",
   "execution_count": null,
   "metadata": {},
   "outputs": [
    {
     "name": "stdout",
     "output_type": "stream",
     "text": [
      "Root Mean Squared Error: 2.3543859767245854\n",
      "Root Mean Squared Error: 2.354385976724586\n"
     ]
    }
   ],
   "source": [
    "lr_model1 = MultiOutputRegressor(LinearRegression()).fit(X_train, y_train)\n",
    "lr_model2 = RegressorChain(LinearRegression()).fit(X_train, y_train)\n",
    "\n",
    "y_pred1 = lr_model1.predict(X_test)\n",
    "print(f\"Root Mean Squared Error: {rmse(y_test, y_pred1)}\")\n",
    "\n",
    "y_pred2 = lr_model2.predict(X_test)\n",
    "print(f\"Root Mean Squared Error: {rmse(y_test, y_pred2)}\")"
   ]
  },
  {
   "cell_type": "code",
   "execution_count": 46,
   "metadata": {},
   "outputs": [
    {
     "name": "stdout",
     "output_type": "stream",
     "text": [
      "Root Mean Squared Error: 2.4056842024969742\n",
      "Root Mean Squared Error: 2.2901924434243894\n",
      "Root Mean Squared Error: 2.2700014717772112\n"
     ]
    }
   ],
   "source": [
    "from sklearn.svm import SVR\n",
    "\n",
    "svr_model1 = RegressorChain(SVR(kernel='linear')).fit(X_train, y_train)\n",
    "svr_model2 = RegressorChain(SVR(kernel='poly')).fit(X_train, y_train)\n",
    "svr_model3 = RegressorChain(SVR(kernel='rbf')).fit(X_train, y_train)\n",
    "\n",
    "y_pred1 = svr_model1.predict(X_test)\n",
    "y_pred2 = svr_model2.predict(X_test)\n",
    "y_pred3 = svr_model3.predict(X_test)\n",
    "\n",
    "print(f\"Root Mean Squared Error: {rmse(y_test, y_pred1)}\")\n",
    "print(f\"Root Mean Squared Error: {rmse(y_test, y_pred2)}\")\n",
    "print(f\"Root Mean Squared Error: {rmse(y_test, y_pred3)}\")"
   ]
  },
  {
   "cell_type": "code",
   "execution_count": null,
   "metadata": {},
   "outputs": [
    {
     "name": "stdout",
     "output_type": "stream",
     "text": [
      "Root Mean Squared Error: 2.420055095791554\n"
     ]
    }
   ],
   "source": [
    "from sklearn.neighbors import KNeighborsRegressor\n",
    "\n",
    "knn_model = RegressorChain(KNeighborsRegressor(n_neighbors=5)).fit(X_train, y_train)\n",
    "\n",
    "y_pred = knn_model.predict(X_test)\n",
    "print(f\"Root Mean Squared Error: {rmse(y_test, y_pred)}\")"
   ]
  },
  {
   "cell_type": "code",
   "execution_count": 76,
   "metadata": {},
   "outputs": [],
   "source": [
    "import tensorflow as tf\n",
    "from tensorflow.keras import layers, models, callbacks, regularizers\n",
    "from tensorflow.keras.models import Sequential\n",
    "from tensorflow.keras.layers import Dense"
   ]
  },
  {
   "cell_type": "code",
   "execution_count": 56,
   "metadata": {},
   "outputs": [
    {
     "name": "stdout",
     "output_type": "stream",
     "text": [
      "WARNING:tensorflow:5 out of the last 13 calls to <function Model.make_predict_function.<locals>.predict_function at 0x000002337FA58B80> triggered tf.function retracing. Tracing is expensive and the excessive number of tracings could be due to (1) creating @tf.function repeatedly in a loop, (2) passing tensors with different shapes, (3) passing Python objects instead of tensors. For (1), please define your @tf.function outside of the loop. For (2), @tf.function has experimental_relax_shapes=True option that relaxes argument shapes that can avoid unnecessary retracing. For (3), please refer to https://www.tensorflow.org/tutorials/customization/performance#python_or_tensor_args and https://www.tensorflow.org/api_docs/python/tf/function for  more details.\n",
      "Root Mean Squared Error: 2.423056427748568\n"
     ]
    }
   ],
   "source": [
    "tf_model = Sequential([\n",
    "    Dense(128, input_dim=55, activation='relu'),\n",
    "    Dense(64, activation='relu'),\n",
    "    Dense(32, activation='relu'),\n",
    "    Dense(6)\n",
    "])\n",
    "\n",
    "tf_model.compile(optimizer='adam', loss='mse')\n",
    "    \n",
    "history = tf_model.fit(X_train, y_train, epochs=30, batch_size=32, validation_split=0.2, verbose=0)\n",
    "\n",
    "y_pred = tf_model.predict(X_test)\n",
    "print(f\"Root Mean Squared Error: {rmse(y_test, y_pred)}\")"
   ]
  },
  {
   "cell_type": "code",
   "execution_count": 71,
   "metadata": {},
   "outputs": [],
   "source": [
    "import matplotlib.pyplot as plt\n",
    "\n",
    "def plot_nn_losses(hist):\n",
    "    plt.plot(hist.history['loss'], label='Train Loss')\n",
    "    plt.plot(hist.history['val_loss'], label='Validation Loss')\n",
    "    plt.xlabel('Epochs')\n",
    "    plt.ylabel('Loss')\n",
    "    plt.legend()\n",
    "    plt.show()\n",
    "    return(None)"
   ]
  },
  {
   "cell_type": "code",
   "execution_count": 106,
   "metadata": {},
   "outputs": [
    {
     "data": {
      "image/png": "[encoded data removed]",
      "text/plain": [
       "<Figure size 640x480 with 1 Axes>"
      ]
     },
     "metadata": {},
     "output_type": "display_data"
    }
   ],
   "source": [
    "plot_nn_losses(history)"
   ]
  },
  {
   "cell_type": "markdown",
   "metadata": {},
   "source": [
    "Более сложная модель с промежуточными слоями"
   ]
  },
  {
   "cell_type": "code",
   "execution_count": 107,
   "metadata": {},
   "outputs": [],
   "source": [
    "def create_model():\n",
    "    model = models.Sequential([\n",
    "        layers.Input(shape=(55,)),  # Входной слой для 55 признаков\n",
    "        \n",
    "        # Нормализация входных данных\n",
    "        layers.experimental.preprocessing.Normalization(axis=-1),\n",
    "        \n",
    "        # Скрытые слои с регуляризацией\n",
    "        layers.Dense(128, activation='relu', kernel_regularizer=regularizers.l1_l2(l1=1e-5, l2=1e-4)),\n",
    "        layers.BatchNormalization(),\n",
    "        layers.Dropout(0.3),\n",
    "        \n",
    "        layers.Dense(64, activation='relu', kernel_regularizer='l2'),\n",
    "        layers.BatchNormalization(),\n",
    "        layers.Dropout(0.3),\n",
    "\n",
    "        layers.Dense(32, activation='relu', kernel_regularizer='l2'),\n",
    "        layers.BatchNormalization(),\n",
    "        layers.Dropout(0.3),\n",
    "        \n",
    "        # Выходной слой с 6 нейронами (для 6 целевых признаков)\n",
    "        layers.Dense(6)\n",
    "    ])\n",
    "    \n",
    "    return model"
   ]
  },
  {
   "cell_type": "code",
   "execution_count": 108,
   "metadata": {},
   "outputs": [
    {
     "name": "stdout",
     "output_type": "stream",
     "text": [
      "\n",
      "Test MSE: 6.32, Test RMSE: 2.32\n"
     ]
    }
   ],
   "source": [
    "model = create_model()\n",
    "model.compile(\n",
    "    optimizer=tf.keras.optimizers.Adam(learning_rate=0.001),\n",
    "    loss='mse',  # Используем MSE как функцию потерь\n",
    "    metrics=[tf.keras.metrics.RootMeanSquaredError(name='rmse')]\n",
    ")\n",
    "\n",
    "# Callbacks\n",
    "early_stopping = callbacks.EarlyStopping(\n",
    "    patience=10,\n",
    "    restore_best_weights=True\n",
    ")\n",
    "\n",
    "# Обучение модели\n",
    "history = model.fit(\n",
    "    X_train, y_train,\n",
    "    epochs=150,\n",
    "    batch_size=32,\n",
    "    validation_split=0.2,\n",
    "    callbacks=[early_stopping],\n",
    "    verbose=0\n",
    ")\n",
    "\n",
    "# Оценка модели\n",
    "test_results = model.evaluate(X_test, y_test, verbose=0)\n",
    "print(f\"\\nTest MSE: {test_results[0]:.2f}, Test RMSE: {test_results[1]:.2f}\")\n"
   ]
  },
  {
   "cell_type": "code",
   "execution_count": 109,
   "metadata": {},
   "outputs": [
    {
     "data": {
      "image/png": "[encoded data removed]",
      "text/plain": [
       "<Figure size 640x480 with 1 Axes>"
      ]
     },
     "metadata": {},
     "output_type": "display_data"
    }
   ],
   "source": [
    "plot_nn_losses(history)"
   ]
  },
  {
   "cell_type": "code",
   "execution_count": 8,
   "metadata": {},
   "outputs": [
    {
     "name": "stderr",
     "output_type": "stream",
     "text": [
      "d:\\Programs\\anaconda3\\Lib\\site-packages\\tabpfn\\base.py:100: UserWarning: Downloading model to C:\\Users\\egorg\\AppData\\Roaming\\tabpfn\\tabpfn-v2-regressor.ckpt.\n",
      "  model, bardist, config_ = load_model_criterion_config(\n"
     ]
    },
    {
     "data": {
      "application/vnd.jupyter.widget-view+json": {
       "model_id": "5efb148839224381a92af15ac09ce1ba",
       "version_major": 2,
       "version_minor": 0
      },
      "text/plain": [
       "tabpfn-v2-regressor.ckpt:   0%|          | 0.00/44.4M [00:00<?, ?B/s]"
      ]
     },
     "metadata": {},
     "output_type": "display_data"
    },
    {
     "data": {
      "application/vnd.jupyter.widget-view+json": {
       "model_id": "75d91ae932a24cd29c07a3bb5b2a518e",
       "version_major": 2,
       "version_minor": 0
      },
      "text/plain": [
       "config.json:   0%|          | 0.00/37.0 [00:00<?, ?B/s]"
      ]
     },
     "metadata": {},
     "output_type": "display_data"
    },
    {
     "name": "stdout",
     "output_type": "stream",
     "text": [
      "Root Mean Squared Error: 2.217128435102972\n"
     ]
    }
   ],
   "source": [
    "from tabpfn import TabPFNRegressor\n",
    "\n",
    "tab_model = RegressorChain(TabPFNRegressor()).fit(X_train, y_train)\n",
    "\n",
    "y_pred = tab_model.predict(X_test)\n",
    "print(f\"Root Mean Squared Error: {rmse(y_test, y_pred)}\")"
   ]
  },
  {
   "cell_type": "markdown",
   "metadata": {},
   "source": [
    "tabpfn (обучался почти 9 минут) - rmse 2.217"
   ]
  }
 ],
 "metadata": {
  "kernelspec": {
   "display_name": "base",
   "language": "python",
   "name": "python3"
  },
  "language_info": {
   "codemirror_mode": {
    "name": "ipython",
    "version": 3
   },
   "file_extension": ".py",
   "mimetype": "text/x-python",
   "name": "python",
   "nbconvert_exporter": "python",
   "pygments_lexer": "ipython3",
   "version": "3.12.7"
  }
 },
 "nbformat": 4,
 "nbformat_minor": 2
}
