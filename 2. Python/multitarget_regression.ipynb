{
 "cells": [
  {
   "cell_type": "code",
   "execution_count": 8,
   "metadata": {},
   "outputs": [],
   "source": [
    "import pandas as pd\n",
    "import numpy as np\n",
    "from sklearn.model_selection import train_test_split\n",
    "from sklearn.multioutput import MultiOutputRegressor, RegressorChain\n",
    "from sklearn.ensemble import RandomForestRegressor\n",
    "# from sklearn.metrics import root_mean_squared_error"
   ]
  },
  {
   "cell_type": "code",
   "execution_count": 10,
   "metadata": {},
   "outputs": [],
   "source": [
    "def rmse(y_true, y_pred):\n",
    "    mean_squared_error = np.mean((y_true - y_pred) ** 2)  # Среднее значение квадратов ошибок\n",
    "    return np.sqrt(mean_squared_error)"
   ]
  },
  {
   "cell_type": "code",
   "execution_count": 11,
   "metadata": {},
   "outputs": [],
   "source": [
    "data = pd.read_feather(\"wide_data.feather\")\n",
    "\n",
    "X = data.loc[:, ~data.columns.isin([\"HL_1\", \"HL_2\", \"HL_3\", \"HL_4\", \"HL_5\", \"HL_6\"])]\n",
    "y = data.loc[:, \"HL_1\":\"HL_6\"]\n",
    "\n",
    "X_train, X_test, y_train, y_test = train_test_split(X, y, test_size=0.2, random_state=42)"
   ]
  },
  {
   "cell_type": "code",
   "execution_count": null,
   "metadata": {},
   "outputs": [
    {
     "name": "stdout",
     "output_type": "stream",
     "text": [
      "Mean Squared Error: 2.1920076201653007\n"
     ]
    }
   ],
   "source": [
    "mor_model = MultiOutputRegressor(RandomForestRegressor(n_estimators=1000, random_state=42)).fit(X_train, y_train)\n",
    "\n",
    "y_pred = mor_model.predict(X_test)\n",
    "print(f\"Root Mean Squared Error: {rmse(y_test, y_pred)}\")"
   ]
  },
  {
   "cell_type": "code",
   "execution_count": 9,
   "metadata": {},
   "outputs": [
    {
     "name": "stdout",
     "output_type": "stream",
     "text": [
      "Mean Squared Error: 2.2069133708892275\n"
     ]
    }
   ],
   "source": [
    "chain_model = RegressorChain(RandomForestRegressor(n_estimators=1000, random_state=42)).fit(X_train, y_train)\n",
    "\n",
    "y_pred = chain_model.predict(X_test)\n",
    "print(f\"Root Mean Squared Error: {rmse(y_test, y_pred)}\")"
   ]
  },
  {
   "cell_type": "code",
   "execution_count": 13,
   "metadata": {},
   "outputs": [],
   "source": [
    "from tensorflow.keras.models import Sequential\n",
    "from tensorflow.keras.layers import Dense"
   ]
  },
  {
   "cell_type": "code",
   "execution_count": null,
   "metadata": {},
   "outputs": [
    {
     "data": {
      "text/plain": [
       "<tensorflow.python.keras.callbacks.History at 0x248ddfa93d0>"
      ]
     },
     "execution_count": 27,
     "metadata": {},
     "output_type": "execute_result"
    }
   ],
   "source": [
    "tf_model = Sequential()\n",
    "tf_model.add(Dense(5*64, input_dim=56, activation='relu'))\n",
    "tf_model.add(Dense(5*16, activation='relu'))\n",
    "tf_model.add(Dense(18, activation='relu'))\n",
    "tf_model.add(Dense(6))  # 6 выходных нейронов для 6 целевых переменных\n",
    "\n",
    "tf_model.compile(optimizer='adam', loss='mse')\n",
    "tf_model.fit(X_train, y_train, epochs=250, batch_size=32, validation_split=0.2, verbose=0)"
   ]
  },
  {
   "cell_type": "code",
   "execution_count": 24,
   "metadata": {},
   "outputs": [
    {
     "name": "stdout",
     "output_type": "stream",
     "text": [
      "Root Mean Squared Error: 2.9746627621379003\n"
     ]
    }
   ],
   "source": [
    "y_pred = tf_model.predict(X_test)\n",
    "print(f\"Root Mean Squared Error: {rmse(y_test, y_pred)}\")"
   ]
  }
 ],
 "metadata": {
  "kernelspec": {
   "display_name": "env",
   "language": "python",
   "name": "python3"
  },
  "language_info": {
   "codemirror_mode": {
    "name": "ipython",
    "version": 3
   },
   "file_extension": ".py",
   "mimetype": "text/x-python",
   "name": "python",
   "nbconvert_exporter": "python",
   "pygments_lexer": "ipython3",
   "version": "3.8.20"
  }
 },
 "nbformat": 4,
 "nbformat_minor": 2
}
