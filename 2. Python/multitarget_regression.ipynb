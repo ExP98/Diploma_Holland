{
 "cells": [
  {
   "cell_type": "markdown",
   "metadata": {},
   "source": [
    "# Импорты, функции"
   ]
  },
  {
   "cell_type": "code",
   "execution_count": 1,
   "metadata": {},
   "outputs": [],
   "source": [
    "import pandas as pd\n",
    "import numpy as np\n",
    "import matplotlib.pyplot as plt\n",
    "\n",
    "from sklearn.preprocessing import StandardScaler\n",
    "from sklearn.model_selection import train_test_split\n",
    "from sklearn.multioutput import MultiOutputRegressor, RegressorChain\n",
    "# from sklearn.metrics import root_mean_squared_error\n",
    "\n",
    "from sklearn.linear_model import LinearRegression\n",
    "from sklearn.ensemble import RandomForestRegressor, ExtraTreesRegressor \n",
    "from sklearn.neighbors import KNeighborsRegressor\n",
    "from sklearn.svm import SVR"
   ]
  },
  {
   "cell_type": "code",
   "execution_count": 3,
   "metadata": {},
   "outputs": [],
   "source": [
    "def rmse(y_true, y_pred):\n",
    "    mean_squared_error = np.mean((y_true - y_pred) ** 2)  # Среднее значение квадратов ошибок\n",
    "    return np.sqrt(mean_squared_error)\n",
    "\n",
    "\n",
    "def check_MO_regression(model_obj, model_name=\"\"):\n",
    "    MO_regr = {'Indep': MultiOutputRegressor, 'Chain': RegressorChain}\n",
    "    for name, model in MO_regr.items():\n",
    "        y_pred = model(model_obj).fit(X_train, y_train).predict(X_test)\n",
    "        print(f\"{model_name} {name}. RMSE: {round(rmse(y_test, y_pred), 3)}\")\n",
    "    return(None)\n",
    "\n",
    "\n",
    "def plot_nn_losses(hist):\n",
    "    plt.plot(hist.history['loss'], label='Train Loss')\n",
    "    plt.plot(hist.history['val_loss'], label='Validation Loss')\n",
    "    plt.xlabel('Epochs')\n",
    "    plt.ylabel('Loss')\n",
    "    plt.legend()\n",
    "    plt.show()\n",
    "    return(None)"
   ]
  },
  {
   "cell_type": "markdown",
   "metadata": {},
   "source": [
    "# Подготовка данных"
   ]
  },
  {
   "cell_type": "code",
   "execution_count": 4,
   "metadata": {},
   "outputs": [],
   "source": [
    "data = pd.read_feather(\"../0. Data/wide_data.feather\")\n",
    "\n",
    "X = data.loc[:, ~data.columns.isin([\"HL_1\", \"HL_2\", \"HL_3\", \"HL_4\", \"HL_5\", \"HL_6\", \"id\"])]\n",
    "y = data.loc[:, \"HL_1\":\"HL_6\"]\n",
    "\n",
    "X_train, X_test, y_train, y_test = train_test_split(X, y, test_size=0.2, random_state=242)\n",
    "\n",
    "scaler = StandardScaler().fit(X_train)\n",
    "X_train = scaler.transform(X_train)\n",
    "X_test = scaler.transform(X_test)"
   ]
  },
  {
   "cell_type": "code",
   "execution_count": 5,
   "metadata": {},
   "outputs": [],
   "source": [
    "y_bool = pd.read_feather(\"../0. Data/Y_bool.feather\")\n",
    "\n",
    "y_b_train, y_b_test = train_test_split(y_bool, test_size=0.2, random_state=42)"
   ]
  },
  {
   "cell_type": "markdown",
   "metadata": {},
   "source": [
    "# Классификация"
   ]
  },
  {
   "cell_type": "code",
   "execution_count": 26,
   "metadata": {},
   "outputs": [
    {
     "name": "stdout",
     "output_type": "stream",
     "text": [
      "Пример предсказания: [ True False False  True False False]\n",
      "Accuracy: 0.058823529411764705\n",
      "              precision    recall  f1-score   support\n",
      "\n",
      "        HL_1       0.50      0.42      0.46        33\n",
      "        HL_2       0.66      0.72      0.69        40\n",
      "        HL_3       0.50      0.62      0.56        32\n",
      "        HL_4       0.57      0.47      0.52        36\n",
      "        HL_5       0.40      0.41      0.41        29\n",
      "        HL_6       0.61      0.68      0.64        34\n",
      "\n",
      "   micro avg       0.55      0.56      0.56       204\n",
      "   macro avg       0.54      0.56      0.54       204\n",
      "weighted avg       0.55      0.56      0.55       204\n",
      " samples avg       0.55      0.56      0.55       204\n",
      "\n"
     ]
    }
   ],
   "source": [
    "from sklearn.multioutput import MultiOutputClassifier\n",
    "from sklearn.linear_model import LogisticRegression\n",
    "from sklearn.metrics import accuracy_score, classification_report\n",
    "\n",
    "model = MultiOutputClassifier(LogisticRegression(max_iter=1000))\n",
    "model.fit(X_train, y_b_train)\n",
    "\n",
    "# 5. Предсказание и оценка\n",
    "y_pred = model.predict(X_test)\n",
    "\n",
    "\n",
    "# Проверка, что ровно 3 шкалы выбраны (важно для задачи)\n",
    "print(\"Пример предсказания:\", y_pred[0])  # Например, [1, 0, 1, 1, 0, 0]\n",
    "\n",
    "# Метрики\n",
    "print(\"Accuracy:\", accuracy_score(y_b_test, y_pred))\n",
    "print(classification_report(y_b_test, y_pred, target_names=y_b_test.columns))"
   ]
  },
  {
   "cell_type": "code",
   "execution_count": 6,
   "metadata": {},
   "outputs": [
    {
     "ename": "NameError",
     "evalue": "name 'model' is not defined",
     "output_type": "error",
     "traceback": [
      "\u001b[1;31m---------------------------------------------------------------------------\u001b[0m",
      "\u001b[1;31mNameError\u001b[0m                                 Traceback (most recent call last)",
      "\u001b[1;32m~\\AppData\\Local\\Temp\\ipykernel_17936\\3545633488.py\u001b[0m in \u001b[0;36m<cell line: 1>\u001b[1;34m()\u001b[0m\n\u001b[1;32m----> 1\u001b[1;33m \u001b[0mprobs\u001b[0m \u001b[1;33m=\u001b[0m \u001b[0mmodel\u001b[0m\u001b[1;33m.\u001b[0m\u001b[0mpredict_proba\u001b[0m\u001b[1;33m(\u001b[0m\u001b[0mX_test\u001b[0m\u001b[1;33m)\u001b[0m\u001b[1;33m\u001b[0m\u001b[1;33m\u001b[0m\u001b[0m\n\u001b[0m\u001b[0;32m      2\u001b[0m \u001b[0mprobs\u001b[0m\u001b[1;33m[\u001b[0m\u001b[1;36m2\u001b[0m\u001b[1;33m]\u001b[0m\u001b[1;33m\u001b[0m\u001b[1;33m\u001b[0m\u001b[0m\n",
      "\u001b[1;31mNameError\u001b[0m: name 'model' is not defined"
     ]
    }
   ],
   "source": [
    "probs = model.predict_proba(X_test)\n",
    "probs[2]"
   ]
  },
  {
   "cell_type": "markdown",
   "metadata": {},
   "source": [
    "# Регрессионные модели"
   ]
  },
  {
   "cell_type": "markdown",
   "metadata": {},
   "source": [
    "## Обычные регрессоры, поддерживающие MultiOutput по умолчанию"
   ]
  },
  {
   "cell_type": "code",
   "execution_count": 55,
   "metadata": {},
   "outputs": [
    {
     "name": "stdout",
     "output_type": "stream",
     "text": [
      "Linear. RMSE: 2.2039390281741458\n",
      "ExtraTree. RMSE: 2.0190194912091246\n",
      "Random Forest. RMSE: 1.9955709488175823\n",
      "kNN. RMSE: 2.2846890207572295\n"
     ]
    }
   ],
   "source": [
    "linear = LinearRegression().fit(X_train, y_train)\n",
    "rf = RandomForestRegressor(n_estimators=500).fit(X_train, y_train)\n",
    "etr = ExtraTreesRegressor().fit(X_train, y_train)\n",
    "knn = KNeighborsRegressor().fit(X_train, y_train)\n",
    "\n",
    "print(f\"Linear. RMSE: {rmse(y_test, linear.predict(X_test))}\")\n",
    "print(f\"ExtraTree. RMSE: {rmse(y_test, etr.predict(X_test))}\")\n",
    "print(f\"Random Forest. RMSE: {rmse(y_test, rf.predict(X_test))}\")\n",
    "print(f\"kNN. RMSE: {rmse(y_test, knn.predict(X_test))}\")"
   ]
  },
  {
   "cell_type": "markdown",
   "metadata": {},
   "source": [
    "### Бустинги"
   ]
  },
  {
   "cell_type": "code",
   "execution_count": 54,
   "metadata": {},
   "outputs": [
    {
     "name": "stdout",
     "output_type": "stream",
     "text": [
      "LightGBM. RMSE: 2.119413392464683\n",
      "XGBoost. RMSE: 2.0667382537677588\n",
      "XGB. RMSE: 2.0368793706273958\n"
     ]
    }
   ],
   "source": [
    "import xgboost as xgb\n",
    "import lightgbm as lgb\n",
    "from catboost import CatBoostRegressor\n",
    "\n",
    "xgb_params = {\n",
    "    'objective': 'reg:squarederror',\n",
    "    'eval_metric': 'rmse',\n",
    "    'max_depth': 6,\n",
    "    'eta': 0.1,\n",
    "    'subsample': 0.8,\n",
    "    'colsample_bytree': 0.8,\n",
    "    'seed': 42\n",
    "}\n",
    "\n",
    "lgb_params = {\n",
    "    'metric': 'rmse',\n",
    "    'learning_rate': 0.05,\n",
    "    'seed': 42,\n",
    "    'verbose': -1\n",
    "}\n",
    "\n",
    "lgb_model = MultiOutputRegressor(lgb.LGBMRegressor(**lgb_params)).fit(X_train, y_train)\n",
    "xgbst = xgb.train(xgb_params, xgb.DMatrix(X_train, label=y_train), 15)\n",
    "ctb = CatBoostRegressor(iterations=100, random_seed=42, loss_function='MultiRMSE', verbose=0).fit(X_train, y_train)\n",
    "\n",
    "print(f\"LightGBM. RMSE: {rmse(y_test, lgb_model.predict(X_test))}\")\n",
    "print(f\"XGBoost. RMSE: {rmse(y_test, xgbst.predict(xgb.DMatrix(X_test, label=y_test)))}\")\n",
    "print(f\"XGB. RMSE: {rmse(y_test, ctb.predict(X_test))}\")"
   ]
  },
  {
   "cell_type": "markdown",
   "metadata": {},
   "source": [
    "## MultiOutputRegressor и RegressorChain"
   ]
  },
  {
   "cell_type": "code",
   "execution_count": 11,
   "metadata": {},
   "outputs": [
    {
     "name": "stdout",
     "output_type": "stream",
     "text": [
      "Random Forest Indep. RMSE: 2.019\n",
      "Random Forest Chain. RMSE: 2.047\n"
     ]
    }
   ],
   "source": [
    "check_MO_regression(RandomForestRegressor(n_estimators=500, random_state=42), \"Random Forest\")"
   ]
  },
  {
   "cell_type": "markdown",
   "metadata": {},
   "source": [
    "RMSE: 2.1939639438160112 для n_est=1000  \n",
    "RMSE: 2.2284464935263317 для n_est=100  \n",
    "RMSE: 2.1941610460671366 для n_est=500"
   ]
  },
  {
   "cell_type": "code",
   "execution_count": 12,
   "metadata": {},
   "outputs": [
    {
     "name": "stdout",
     "output_type": "stream",
     "text": [
      "Linear Indep. RMSE: 2.204\n",
      "Linear Chain. RMSE: 2.204\n"
     ]
    }
   ],
   "source": [
    "check_MO_regression(LinearRegression(), \"Linear\")"
   ]
  },
  {
   "cell_type": "code",
   "execution_count": 13,
   "metadata": {},
   "outputs": [
    {
     "name": "stdout",
     "output_type": "stream",
     "text": [
      "SVR linear Indep. RMSE: 2.341\n",
      "SVR linear Chain. RMSE: 2.296\n",
      "SVR poly Indep. RMSE: 2.174\n",
      "SVR poly Chain. RMSE: 2.124\n",
      "SVR rbf Indep. RMSE: 2.067\n",
      "SVR rbf Chain. RMSE: 2.059\n"
     ]
    }
   ],
   "source": [
    "check_MO_regression(SVR(kernel='linear'), \"SVR linear\")\n",
    "check_MO_regression(SVR(kernel='poly'), \"SVR poly\")\n",
    "check_MO_regression(SVR(kernel='rbf'), \"SVR rbf\")"
   ]
  },
  {
   "cell_type": "code",
   "execution_count": 19,
   "metadata": {},
   "outputs": [
    {
     "name": "stdout",
     "output_type": "stream",
     "text": [
      "kNN Indep. RMSE: 2.116\n",
      "kNN Chain. RMSE: 2.138\n"
     ]
    }
   ],
   "source": [
    "check_MO_regression(KNeighborsRegressor(n_neighbors=15), \"kNN\")"
   ]
  },
  {
   "cell_type": "markdown",
   "metadata": {},
   "source": [
    "## Нейронные сети"
   ]
  },
  {
   "cell_type": "code",
   "execution_count": 15,
   "metadata": {},
   "outputs": [],
   "source": [
    "import tensorflow as tf\n",
    "from tensorflow.keras import layers, models, callbacks, regularizers\n",
    "from tensorflow.keras.models import Sequential\n",
    "from tensorflow.keras.layers import Dense"
   ]
  },
  {
   "cell_type": "code",
   "execution_count": 16,
   "metadata": {},
   "outputs": [
    {
     "name": "stdout",
     "output_type": "stream",
     "text": [
      "RMSE: 2.3578201910466894\n"
     ]
    }
   ],
   "source": [
    "tf_model = Sequential([\n",
    "    Dense(128, input_dim=55, activation='relu'),\n",
    "    Dense(64, activation='relu'),\n",
    "    Dense(32, activation='relu'),\n",
    "    Dense(6)\n",
    "])\n",
    "\n",
    "tf_model.compile(optimizer='adam', loss='mse')\n",
    "    \n",
    "history = tf_model.fit(X_train, y_train, epochs=30, batch_size=32, validation_split=0.2, verbose=0)\n",
    "\n",
    "y_pred = tf_model.predict(X_test)\n",
    "print(f\"RMSE: {rmse(y_test, y_pred)}\")"
   ]
  },
  {
   "cell_type": "code",
   "execution_count": 17,
   "metadata": {},
   "outputs": [
    {
     "data": {
      "image/png": "[encoded data removed]",
      "text/plain": [
       "<Figure size 640x480 with 1 Axes>"
      ]
     },
     "metadata": {},
     "output_type": "display_data"
    }
   ],
   "source": [
    "plot_nn_losses(history)"
   ]
  },
  {
   "cell_type": "markdown",
   "metadata": {},
   "source": [
    "Более сложная модель с промежуточными слоями"
   ]
  },
  {
   "cell_type": "code",
   "execution_count": 20,
   "metadata": {},
   "outputs": [],
   "source": [
    "def create_model():\n",
    "    model = models.Sequential([\n",
    "        layers.Input(shape=(55,)),  # Входной слой для 55 признаков\n",
    "        \n",
    "        # Нормализация входных данных\n",
    "        layers.experimental.preprocessing.Normalization(axis=-1),\n",
    "        \n",
    "        # Скрытые слои с регуляризацией\n",
    "        layers.Dense(128, activation='relu', kernel_regularizer=regularizers.l1_l2(l1=1e-5, l2=1e-4)),\n",
    "        layers.BatchNormalization(),\n",
    "        layers.Dropout(0.3),\n",
    "        \n",
    "        layers.Dense(64, activation='relu', kernel_regularizer='l2'),\n",
    "        layers.BatchNormalization(),\n",
    "        layers.Dropout(0.3),\n",
    "\n",
    "        layers.Dense(32, activation='relu', kernel_regularizer='l2'),\n",
    "        layers.BatchNormalization(),\n",
    "        layers.Dropout(0.3),\n",
    "        \n",
    "        # Выходной слой с 6 нейронами (для 6 целевых признаков)\n",
    "        layers.Dense(6)\n",
    "    ])\n",
    "    \n",
    "    return model"
   ]
  },
  {
   "cell_type": "code",
   "execution_count": 21,
   "metadata": {},
   "outputs": [
    {
     "name": "stdout",
     "output_type": "stream",
     "text": [
      "\n",
      "Test MSE: 5.57, Test RMSE: 2.10\n"
     ]
    }
   ],
   "source": [
    "model = create_model()\n",
    "model.compile(\n",
    "    optimizer=tf.keras.optimizers.Adam(learning_rate=0.001),\n",
    "    loss='mse',  # Используем MSE как функцию потерь\n",
    "    metrics=[tf.keras.metrics.RootMeanSquaredError(name='rmse')]\n",
    ")\n",
    "\n",
    "# Callbacks\n",
    "early_stopping = callbacks.EarlyStopping(\n",
    "    patience=10,\n",
    "    restore_best_weights=True\n",
    ")\n",
    "\n",
    "# Обучение модели\n",
    "history = model.fit(\n",
    "    X_train, y_train,\n",
    "    epochs=150,\n",
    "    batch_size=32,\n",
    "    validation_split=0.2,\n",
    "    callbacks=[early_stopping],\n",
    "    verbose=0\n",
    ")\n",
    "\n",
    "# Оценка модели\n",
    "test_results = model.evaluate(X_test, y_test, verbose=0)\n",
    "print(f\"\\nTest MSE: {test_results[0]:.2f}, Test RMSE: {test_results[1]:.2f}\")\n"
   ]
  },
  {
   "cell_type": "code",
   "execution_count": 22,
   "metadata": {},
   "outputs": [
    {
     "data": {
      "image/png": "[encoded data removed]",
      "text/plain": [
       "<Figure size 640x480 with 1 Axes>"
      ]
     },
     "metadata": {},
     "output_type": "display_data"
    }
   ],
   "source": [
    "plot_nn_losses(history)"
   ]
  },
  {
   "cell_type": "code",
   "execution_count": 8,
   "metadata": {},
   "outputs": [
    {
     "name": "stderr",
     "output_type": "stream",
     "text": [
      "d:\\Programs\\anaconda3\\Lib\\site-packages\\tabpfn\\base.py:100: UserWarning: Downloading model to C:\\Users\\egorg\\AppData\\Roaming\\tabpfn\\tabpfn-v2-regressor.ckpt.\n",
      "  model, bardist, config_ = load_model_criterion_config(\n"
     ]
    },
    {
     "data": {
      "application/vnd.jupyter.widget-view+json": {
       "model_id": "5efb148839224381a92af15ac09ce1ba",
       "version_major": 2,
       "version_minor": 0
      },
      "text/plain": [
       "tabpfn-v2-regressor.ckpt:   0%|          | 0.00/44.4M [00:00<?, ?B/s]"
      ]
     },
     "metadata": {},
     "output_type": "display_data"
    },
    {
     "data": {
      "application/vnd.jupyter.widget-view+json": {
       "model_id": "75d91ae932a24cd29c07a3bb5b2a518e",
       "version_major": 2,
       "version_minor": 0
      },
      "text/plain": [
       "config.json:   0%|          | 0.00/37.0 [00:00<?, ?B/s]"
      ]
     },
     "metadata": {},
     "output_type": "display_data"
    },
    {
     "name": "stdout",
     "output_type": "stream",
     "text": [
      "Root Mean Squared Error: 2.217128435102972\n"
     ]
    }
   ],
   "source": [
    "from tabpfn import TabPFNRegressor\n",
    "\n",
    "tab_model = RegressorChain(TabPFNRegressor()).fit(X_train, y_train)\n",
    "\n",
    "y_pred = tab_model.predict(X_test)\n",
    "print(f\"RMSE: {rmse(y_test, y_pred)}\")"
   ]
  },
  {
   "cell_type": "markdown",
   "metadata": {},
   "source": [
    "tabpfn (обучался почти 9 минут) - rmse 2.217"
   ]
  }
 ],
 "metadata": {
  "kernelspec": {
   "display_name": "base",
   "language": "python",
   "name": "python3"
  },
  "language_info": {
   "codemirror_mode": {
    "name": "ipython",
    "version": 3
   },
   "file_extension": ".py",
   "mimetype": "text/x-python",
   "name": "python",
   "nbconvert_exporter": "python",
   "pygments_lexer": "ipython3",
   "version": "3.12.7"
  }
 },
 "nbformat": 4,
 "nbformat_minor": 2
}
